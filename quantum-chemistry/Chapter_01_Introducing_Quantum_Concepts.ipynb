{
 "cells": [
  {
   "cell_type": "markdown",
   "metadata": {
    "id": "knnuA3Gy4iIp"
   },
   "source": [
    "$$\n",
    "\\text{This is the cutdown companion Jupyter notebook of Chapter 1, Introducing Quantum Concepts, of the book titled:}$$\n",
    "$$\\text{ \"Quantum Chemistry and Computing for the Curious: Illustrated with Python and Qiskit® code\" and with ISBN-13: 978-1803243900.}$$"
   ]
  },
  {
   "cell_type": "markdown",
   "metadata": {
    "id": "zfvF0_5uIplY"
   },
   "source": [
    "The following MIT license only applies to the code, and not to the text and images. The authors are not granting a license to replicate or reuse the text and images in the companion Jupyter notebook.\n",
    "\n",
    "# MIT License\n",
    "\n",
    "Copyright (c) 2022 Packt\n",
    "\n",
    "Permission is hereby granted, free of charge, to any person obtaining a copy\n",
    "of this software and associated documentation files (the \"Software\"), to deal\n",
    "in the Software without restriction, including without limitation the rights\n",
    "to use, copy, modify, merge, publish, distribute, sublicense, and/or sell\n",
    "copies of the Software, and to permit persons to whom the Software is\n",
    "furnished to do so, subject to the following conditions:\n",
    "\n",
    "The above copyright notice and this permission notice shall be included in all\n",
    "copies or substantial portions of the Software.\n",
    "\n",
    "THE SOFTWARE IS PROVIDED \"AS IS\", WITHOUT WARRANTY OF ANY KIND, EXPRESS OR\n",
    "IMPLIED, INCLUDING BUT NOT LIMITED TO THE WARRANTIES OF MERCHANTABILITY,\n",
    "FITNESS FOR A PARTICULAR PURPOSE AND NONINFRINGEMENT. IN NO EVENT SHALL THE\n",
    "AUTHORS OR COPYRIGHT HOLDERS BE LIABLE FOR ANY CLAIM, DAMAGES OR OTHER\n",
    "LIABILITY, WHETHER IN AN ACTION OF CONTRACT, TORT OR OTHERWISE, ARISING FROM,\n",
    "OUT OF OR IN CONNECTION WITH THE SOFTWARE OR THE USE OR OTHER DEALINGS IN THE\n",
    "SOFTWARE."
   ]
  },
  {
   "cell_type": "markdown",
   "metadata": {
    "id": "BzKhp2f9jZQ2"
   },
   "source": [
    "# 1. Introducing Quantum Concepts\n",
    "\n",
    "# Technical requirements"
   ]
  },
  {
   "cell_type": "markdown",
   "metadata": {
    "id": "EuMIBsvTg6Fa"
   },
   "source": [
    "# 1.4. Light and energy\n",
    "\n",
    "## Calculating the electron configuration of atomic elements using the Madelung rule\n",
    "\n",
    "### Setting-up a list of atomic symbols."
   ]
  },
  {
   "cell_type": "code",
   "execution_count": null,
   "metadata": {
    "id": "TmQvmxVWpT4q"
   },
   "outputs": [],
   "source": [
    "atom_list = ['H', 'He', 'Li', 'Be', 'B', 'C', 'N', 'O', 'F', 'Ne', 'Na',\n",
    "'Mg', 'Al', 'Si', 'P', 'S', 'Cl', 'Ar', 'K', 'Ca', 'Sc', 'Ti', 'V', 'Cr', 'Mn',\n",
    "'Fe', 'Co', 'Ni', 'Cu', 'Zn', 'Ga', 'Ge', 'As', 'Se', 'Br', 'Kr', 'Rb', 'Sr',\n",
    "'Y', 'Zr', 'Nb', 'Mo', 'Tc', 'Ru', 'Rh', 'Pd', 'Ag', 'Cd', 'In', 'Sn', 'Sb',\n",
    "'Te', 'I', 'Xe', 'Cs', 'Ba', 'La', 'Ce', 'Pr', 'Nd', 'Pm', 'Sm', 'Eu', 'Gd',\n",
    "'Tb', 'Dy', 'Ho', 'Er', 'Tm', 'Yb', 'Lu', 'Hf', 'Ta', 'W', 'Re', 'Os', 'Ir',\n",
    "'Pt', 'Au', 'Hg', 'Tl', 'Pb', 'Bi', 'Po', 'At', 'Rn', 'Fr', 'Ra', 'Ac', 'Th',\n",
    "'Pa', 'U', 'Np', 'Pu', 'Am', 'Cm', 'Bk', 'Cf', 'Es', 'Fm', 'Md', 'No','Lr','Rf']"
   ]
  },
  {
   "cell_type": "markdown",
   "metadata": {
    "id": "pk_-u2L-zq4i"
   },
   "source": [
    "### Setting-up a list of atomic orbital letters"
   ]
  },
  {
   "cell_type": "code",
   "execution_count": null,
   "metadata": {
    "id": "1fnW0m9Qqj0A"
   },
   "outputs": [],
   "source": [
    "l_orbital = ['s', 'p', 'd', 'f', 'g']"
   ]
  },
  {
   "cell_type": "markdown",
   "metadata": {
    "id": "HOc7LHkxzy_N"
   },
   "source": [
    "### Setting-up a list of tuples in the order in which the corresponding orbitals are filled"
   ]
  },
  {
   "cell_type": "code",
   "execution_count": null,
   "metadata": {
    "colab": {
     "base_uri": "https://localhost:8080/"
    },
    "id": "-UDImLKvq3sL",
    "outputId": "e9b73836-9952-4d26-9069-742098b31dc5"
   },
   "outputs": [
    {
     "name": "stdout",
     "output_type": "stream",
     "text": [
      "[(1, 1, 0), (2, 2, 0), (3, 2, 1), (3, 3, 0), (4, 3, 1), (4, 4, 0), (5, 3, 2), (5, 4, 1), (5, 5, 0)]\n",
      "[(6, 4, 2), (6, 5, 1), (6, 6, 0), (7, 4, 3), (7, 5, 2), (7, 6, 1), (7, 7, 0), (8, 5, 3), (8, 6, 2)]\n",
      "[(8, 7, 1), (9, 5, 4), (9, 6, 3), (9, 7, 2), (10, 6, 4), (10, 7, 3), (11, 6, 5), (11, 7, 4), (12, 7, 5), (13, 7, 6)]\n"
     ]
    }
   ],
   "source": [
    "nl_pairs = []\n",
    "for n in range(1,8):\n",
    "    for l in range(n):\n",
    "        nl_pairs.append((n+l, n, l))\n",
    "nl_pairs.sort()\n",
    "print(nl_pairs[:9])\n",
    "print(nl_pairs[9:18])\n",
    "print(nl_pairs[18:len(nl_pairs)])"
   ]
  },
  {
   "cell_type": "markdown",
   "metadata": {
    "id": "trtKTauwz9Ln"
   },
   "source": [
    "Figure 1.6 – List of tuples in the order in which the corresponding orbitals are filled\n",
    "\n",
    "### Initializing a list of orbitals and the electrons they contain with the 1s orbital"
   ]
  },
  {
   "cell_type": "code",
   "execution_count": null,
   "metadata": {
    "id": "p7clNyedsGXh"
   },
   "outputs": [],
   "source": [
    "nl_idx, n_elec = 0, 0\n",
    "n, l = 1, 0\n",
    "config = [['1s', 0]]\n",
    "el_config = {}"
   ]
  },
  {
   "cell_type": "code",
   "execution_count": null,
   "metadata": {
    "id": "PAgLmWkUW4Qv"
   },
   "outputs": [],
   "source": [
    "def superscript(n):\n",
    "    return \"\".join([\"⁰¹²³⁴⁵⁶⁷⁸⁹\"[ord(c)-ord('0')] for c in str(n)]) "
   ]
  },
  {
   "cell_type": "code",
   "execution_count": null,
   "metadata": {
    "id": "wP5W0QAFbozQ"
   },
   "outputs": [],
   "source": [
    "for element in atom_list:\n",
    "    n_elec += 1\n",
    "    if n_elec > 2*(2*l+1):\n",
    "        # This subshell is full: start a new subshell\n",
    "        nl_idx += 1\n",
    "        _, n, l = nl_pairs[nl_idx]\n",
    "        config.append(['{}{}'.format(n, l_orbital[l]), 1])\n",
    "        n_elec = 1\n",
    "    else:\n",
    "        # Add an electron to the current subshell\n",
    "        config[-1][1] += 1\n",
    "    # Building configuration string from a list of orbitals and n_elec\n",
    "    el_config[element] = ' '.join(['{:2s}{:1s}'.format(e[0], \n",
    "                            superscript(e[1])) for e in config])"
   ]
  },
  {
   "cell_type": "code",
   "execution_count": null,
   "metadata": {
    "colab": {
     "base_uri": "https://localhost:8080/"
    },
    "id": "I8qfoMMeHgjw",
    "outputId": "05892bbc-f7f5-483e-ede6-eae3e856584c"
   },
   "outputs": [
    {
     "name": "stdout",
     "output_type": "stream",
     "text": [
      "H : 1s¹\n",
      "He: 1s²\n",
      "Li: 1s² 2s¹\n",
      "Be: 1s² 2s²\n",
      "B : 1s² 2s² 2p¹\n",
      "C : 1s² 2s² 2p²\n",
      "N : 1s² 2s² 2p³\n"
     ]
    }
   ],
   "source": [
    "for element in atom_list[:7]:\n",
    "  print('{:2s}: {}'.format(element, el_config[element]))"
   ]
  },
  {
   "cell_type": "markdown",
   "metadata": {
    "id": "sIY8aEhm9IwN"
   },
   "source": [
    "Figure 1.7 – Electronic configurations of the first five atomic elements"
   ]
  },
  {
   "cell_type": "code",
   "execution_count": null,
   "metadata": {
    "colab": {
     "base_uri": "https://localhost:8080/"
    },
    "id": "CJsGdi_UHLVI",
    "outputId": "ca52bf4e-7730-459b-fcc3-20c84f33dc28"
   },
   "outputs": [
    {
     "name": "stdout",
     "output_type": "stream",
     "text": [
      "Mo: 1s² 2s² 2p⁶ 3s² 3p⁶ 4s² 3d¹⁰ 4p⁶ 5s² 4d⁴\n"
     ]
    }
   ],
   "source": [
    "element = 'Mo'\n",
    "print('{:2s}: {}'.format(element, el_config[element]))"
   ]
  },
  {
   "cell_type": "markdown",
   "metadata": {
    "id": "QqOrQilsSATh"
   },
   "source": [
    "Figure 1.8 – Electronic configuration of the element Mo "
   ]
  },
  {
   "cell_type": "markdown",
   "metadata": {
    "id": "95jdfKBXLKFa"
   },
   "source": [
    "# Questions\n",
    "\n",
    "1. What is the primary elementary fermionic particle associated with quantum chemistry?"
   ]
  },
  {
   "cell_type": "code",
   "execution_count": null,
   "metadata": {
    "cellView": "form",
    "colab": {
     "base_uri": "https://localhost:8080/"
    },
    "id": "H-WsHumIL4Gq",
    "outputId": "faa32a39-2463-4718-c489-0175f616902d"
   },
   "outputs": [
    {
     "name": "stdout",
     "output_type": "stream",
     "text": [
      "Incorrect, please try again\n"
     ]
    }
   ],
   "source": [
    "#@title Enter your answer in lowercase or ? for a solution, then execute cell.\n",
    "answer = \"\" #@param {type:\"string\"}\n",
    "solution = \"electron\"\n",
    "if answer == solution:\n",
    "  print(\"Correct\")\n",
    "elif answer == '?':\n",
    "  print(solution)\n",
    "else:\n",
    "  print(\"Incorrect, please try again\")"
   ]
  },
  {
   "cell_type": "markdown",
   "metadata": {
    "id": "99AF3EXMNBd-"
   },
   "source": [
    "2. What value of $l$ (angular momentum quantum number) corresponds to a $p$ orbital?"
   ]
  },
  {
   "cell_type": "code",
   "execution_count": null,
   "metadata": {
    "cellView": "form",
    "colab": {
     "base_uri": "https://localhost:8080/"
    },
    "id": "PVhBfYd7M_DW",
    "outputId": "f8767e20-d0ef-4b9d-8553-a728f5488e6d"
   },
   "outputs": [
    {
     "name": "stdout",
     "output_type": "stream",
     "text": [
      "Correct\n"
     ]
    }
   ],
   "source": [
    "#@title Enter your answer as an integer or 0 for a solution, then execute cell.\n",
    "answer =  1#@param {type:\"integer\"}\n",
    "solution = 1\n",
    "if answer == solution:\n",
    "  print(\"Correct\")\n",
    "elif answer == 0:\n",
    "  print(solution)\n",
    "else:\n",
    "  print(\"Incorrect, please try again\")"
   ]
  },
  {
   "cell_type": "markdown",
   "metadata": {
    "id": "zbC65Dr9NgSe"
   },
   "source": [
    "3. What is the value of the spin quantum number $s$ for an electron?"
   ]
  },
  {
   "cell_type": "code",
   "execution_count": null,
   "metadata": {
    "cellView": "form",
    "colab": {
     "base_uri": "https://localhost:8080/"
    },
    "id": "fX0ZOOo1NoKp",
    "outputId": "de31207d-adf7-4171-e0e1-9c40b7311eb5"
   },
   "outputs": [
    {
     "name": "stdout",
     "output_type": "stream",
     "text": [
      "Incorrect, please try again\n"
     ]
    }
   ],
   "source": [
    "#@title Enter your answer as a string, e.g. \"1/4\" or ? for a solution, then execute cell.\n",
    "answer = \"\" #@param {type:\"string\"}\n",
    "solution = \"1/2\"\n",
    "if answer == solution:\n",
    "  print(\"Correct\")\n",
    "elif answer == '?':\n",
    "  print(solution)\n",
    "else:\n",
    "  print(\"Incorrect, please try again\")"
   ]
  },
  {
   "cell_type": "markdown",
   "metadata": {
    "id": "AAVdN6lZOZ0V"
   },
   "source": [
    "4. Fermions obey the Pauli exclusion principle, which means that paired particle permutation of the wave function must be antisymmetric. What is the sign for antisymmetry?"
   ]
  },
  {
   "cell_type": "code",
   "execution_count": null,
   "metadata": {
    "cellView": "form",
    "colab": {
     "base_uri": "https://localhost:8080/"
    },
    "id": "RyEO9U7YOs2K",
    "outputId": "4a947eb1-ed46-47e7-e49b-c75e9d54987a"
   },
   "outputs": [
    {
     "name": "stdout",
     "output_type": "stream",
     "text": [
      "Incorrect, please try again\n"
     ]
    }
   ],
   "source": [
    "#@title Enter your answer as either \"+\" or \"-\" or ? for a solution, then execute cell.\n",
    "answer = \"\" #@param {type:\"string\"}\n",
    "solution = \"-\"\n",
    "if answer == solution:\n",
    "  print(\"Correct\")\n",
    "elif answer == '?':\n",
    "  print(solution)\n",
    "else:\n",
    "  print(\"Incorrect, please try again\")"
   ]
  },
  {
   "cell_type": "markdown",
   "metadata": {
    "id": "0VhUPRRqPWkF"
   },
   "source": [
    "5. What is the energy of a photon whose wavelength is 486.1 nanometers?\n",
    "In the International System of Units [SI]:\n",
    "- $h = 6.62607015×10^{-34} J×Hz^{-1}$, is the Planck constant,\n",
    "- $c = 299,792,458\\ (m/s)$, is the speed of light.\n",
    "\n",
    "Hint: blue line in the visible spectrum of the hydrogen atom. You also need to convert from meters to nanometers."
   ]
  },
  {
   "cell_type": "code",
   "execution_count": null,
   "metadata": {
    "cellView": "form",
    "colab": {
     "base_uri": "https://localhost:8080/"
    },
    "id": "1XU57WwtPuFQ",
    "outputId": "9b2eca7b-196b-4d36-b112-400c22eea6b8"
   },
   "outputs": [
    {
     "name": "stdout",
     "output_type": "stream",
     "text": [
      "Incorrect, please try again\n"
     ]
    }
   ],
   "source": [
    "#@title Enter your answer as a number or 0 for a solution, then execute cell.\n",
    "import numpy as np\n",
    "answer =   1#@param {type:\"number\"}\n",
    "_EPS = 1e-25 # global variable used to chop very small numbers to zero\n",
    "h = 6.62607015E-34 # Planck constant in the International System of Units [SI]\n",
    "c = 299792458 # Speed of light\n",
    "wv = 486.1E-9 # Wavelength 486.1 nanometers\n",
    "solution = (h * c)/wv\n",
    "if np.abs(answer - solution) < _EPS:\n",
    "  print(\"Correct\")\n",
    "elif answer == 0:\n",
    "  print(solution)\n",
    "else:\n",
    "  print(\"Incorrect, please try again\")"
   ]
  },
  {
   "cell_type": "markdown",
   "metadata": {
    "id": "cLrGn8VHY-N9"
   },
   "source": [
    "6. To which series of Hydrogen atoms does the wavelength in the previous question of 486.1 nanometers correspond to: Lymer, Balmer or Paschen?"
   ]
  },
  {
   "cell_type": "code",
   "execution_count": null,
   "metadata": {
    "cellView": "form",
    "colab": {
     "base_uri": "https://localhost:8080/"
    },
    "id": "aqlVRKUQZvkO",
    "outputId": "cea9192c-e738-4c00-fb33-0ebfd7ea92ef"
   },
   "outputs": [
    {
     "name": "stdout",
     "output_type": "stream",
     "text": [
      "Incorrect, please try again\n"
     ]
    }
   ],
   "source": [
    "#@title Enter your answer as either, Lymer, Balmer or Paschen, or ? for a solution, then execute cell.\n",
    "answer = \"\" #@param {type:\"string\"}\n",
    "solution = \"Balmer\"\n",
    "if answer == solution:\n",
    "  print(\"Correct\")\n",
    "elif answer == '?':\n",
    "  print(solution)\n",
    "else:\n",
    "  print(\"Incorrect, please try again\")"
   ]
  },
  {
   "cell_type": "markdown",
   "metadata": {
    "id": "KauDfz6-aHvh"
   },
   "source": [
    "7.Regarding the Rydberg formula, what is the principal quantum number $n_2$ of the upper energy level corresponding to this transition of $486.1$ nanometers?"
   ]
  },
  {
   "cell_type": "code",
   "execution_count": null,
   "metadata": {
    "cellView": "form",
    "colab": {
     "base_uri": "https://localhost:8080/"
    },
    "id": "DK6o9fNSaeWK",
    "outputId": "c17b0d46-de8f-40fd-fbe6-3cde4b700431"
   },
   "outputs": [
    {
     "name": "stdout",
     "output_type": "stream",
     "text": [
      "Incorrect, please try again\n"
     ]
    }
   ],
   "source": [
    "#@title Enter your answer as an integer or 0 for a solution, then execute cell.\n",
    "answer = 1 #@param {type:\"integer\"}\n",
    "solution = 4\n",
    "if answer == solution:\n",
    "  print(\"Correct\")\n",
    "elif answer == 0:\n",
    "  print(solution)\n",
    "else:\n",
    "  print(\"Incorrect, please try again\")"
   ]
  },
  {
   "cell_type": "markdown",
   "metadata": {
    "id": "dRHo9HJlibYx"
   },
   "source": [
    "8. Full electronic configuration of the Hydrogen element"
   ]
  },
  {
   "cell_type": "code",
   "execution_count": null,
   "metadata": {
    "cellView": "form",
    "colab": {
     "base_uri": "https://localhost:8080/"
    },
    "id": "_gQyOUVtixxy",
    "outputId": "8da87703-d307-44e2-ef7e-d42e19a0bb25"
   },
   "outputs": [
    {
     "name": "stdout",
     "output_type": "stream",
     "text": [
      "1s1\n"
     ]
    }
   ],
   "source": [
    "#@title Enter the full electronic configuration without superscripts, or ? for displaying a solution, then execute the cell.\n",
    "answer = \"?\" #@param {type:\"string\"}\n",
    "solution = \"1s1\"\n",
    "if answer == solution:\n",
    "  print(\"Correct\")\n",
    "elif answer == '?':\n",
    "  print(solution)\n",
    "else:\n",
    "  print(\"Incorrect, please try again\")"
   ]
  },
  {
   "cell_type": "markdown",
   "metadata": {
    "id": "ELVDFzwve0AR"
   },
   "source": [
    "9. Full electronic configuration of the Nitrogen element"
   ]
  },
  {
   "cell_type": "code",
   "execution_count": null,
   "metadata": {
    "cellView": "form",
    "colab": {
     "base_uri": "https://localhost:8080/"
    },
    "id": "JOS2DUWZgnca",
    "outputId": "2e175e65-64f8-4bea-d7f4-e5cd673eb6f8"
   },
   "outputs": [
    {
     "name": "stdout",
     "output_type": "stream",
     "text": [
      "1s2 2s2 2p3\n"
     ]
    }
   ],
   "source": [
    "#@title Enter the full electronic configuration without superscripts, or ? for displaying a solution, then execute the cell.\n",
    "answer = \"?\" #@param {type:\"string\"}\n",
    "solution = \"1s2 2s2 2p3\"\n",
    "if answer == solution:\n",
    "  print(\"Correct\")\n",
    "elif answer == '?':\n",
    "  print(solution)\n",
    "else:\n",
    "  print(\"Incorrect, please try again\")"
   ]
  }
 ],
 "metadata": {
  "colab": {
   "authorship_tag": "ABX9TyOctkQL0Mdwasn++P04bbuJ",
   "collapsed_sections": [],
   "name": "Chapter_01_Introducing_Quantum_Concepts.ipynb",
   "provenance": []
  },
  "kernelspec": {
   "display_name": "Python 3 (ipykernel)",
   "language": "python",
   "name": "python3"
  },
  "language_info": {
   "codemirror_mode": {
    "name": "ipython",
    "version": 3
   },
   "file_extension": ".py",
   "mimetype": "text/x-python",
   "name": "python",
   "nbconvert_exporter": "python",
   "pygments_lexer": "ipython3",
   "version": "3.12.4"
  }
 },
 "nbformat": 4,
 "nbformat_minor": 4
}
