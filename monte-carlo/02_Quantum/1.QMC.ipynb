{
 "cells": [
  {
   "cell_type": "markdown",
   "id": "c029fe45-86e5-492f-88f6-84ddf27689a1",
   "metadata": {},
   "source": [
    "<div class=\"alert alert-block alert-warning\">\n",
    "<b>Alert:</b> This QPU calculation costs $ ??? .\n",
    "</div>\n",
    "\n",
    "<div class=\"alert alert-block alert-success\">\n",
    "<b>This simulation runs a circuit with a varying number of gates for the purpose of detecting depolarization error. </b>\n",
    "<div>Obs. 1: The data is saved in external files so that it can be worked on without incurring new costs.</div>\n",
    "<div>Obs. 2: For new simulation parameters, save in a file with a different name.</div>\n",
    "</div>\n",
    "\n",
    "# Instructions if you are running outside AWS cloud\n",
    "\n",
    "1. Install aws-cli:\n",
    "\n",
    "`sudo apt install aws-cli`\n",
    "\n",
    "2. Setup aws credentials:\n",
    "\n",
    "`aws configure --profile \"default\"`\n",
    "\n",
    "3. Create virtual environment \n",
    "\n",
    "`python -m venv /path/to/new/virtual/environment`\n",
    "\n",
    "4. Activate virtual environment\n",
    "\n",
    "`source /path/to/new/virtual/environment/bin/activate`"
   ]
  },
  {
   "cell_type": "code",
   "execution_count": null,
   "id": "aff74cb5-66b6-4142-a03f-c521cae0843d",
   "metadata": {},
   "outputs": [],
   "source": [
    "# Install this modules on your virtual environment: an open source library for interacting\n",
    "# with quantum computing devices and simulators on Amazon Braket\n",
    "!pip install -r requirements"
   ]
  },
  {
   "cell_type": "markdown",
   "id": "e98422b4-6c8c-4ff8-92a1-9cef4942d0e2",
   "metadata": {},
   "source": [
    "### AWS remote login"
   ]
  },
  {
   "cell_type": "code",
   "execution_count": 4,
   "id": "df391b06-5381-4cfd-80dd-408eebc7f5ec",
   "metadata": {},
   "outputs": [],
   "source": [
    "from boto3 import Session\n",
    "from braket.aws import AwsSession\n",
    "\n",
    "# Start Boto3 Session with your credentials profile\n",
    "boto_session = Session(profile_name=\"default\")\n",
    "\n",
    "# Initialize Braket session with Boto3 Session credentials\n",
    "aws_session = AwsSession(boto_session=boto_session)"
   ]
  },
  {
   "cell_type": "markdown",
   "id": "b88b387f-c68a-452d-9654-365a6aa18f2b",
   "metadata": {},
   "source": [
    "# Importing modules"
   ]
  },
  {
   "cell_type": "code",
   "execution_count": 5,
   "id": "36a18296-6498-45a3-8e88-cbf2ba6e30d4",
   "metadata": {},
   "outputs": [],
   "source": [
    "from braket.tracking import Tracker\n",
    "\n",
    "t = Tracker().start()"
   ]
  },
  {
   "cell_type": "code",
   "execution_count": 6,
   "id": "a32ef92c-987d-496d-a12d-9f9f79d89f3d",
   "metadata": {},
   "outputs": [],
   "source": [
    "# AWS imports: Import Braket SDK modules\n",
    "import math\n",
    "\n",
    "from braket.circuits import Circuit, Observable\n",
    "from braket.devices import LocalSimulator"
   ]
  },
  {
   "cell_type": "code",
   "execution_count": 8,
   "id": "eceb6623-e07a-4752-a7b7-b7ce831c8fcc",
   "metadata": {},
   "outputs": [],
   "source": [
    "from braket.aws import AwsDevice, AwsQuantumTask\n",
    "from braket.error_mitigation import Debias"
   ]
  },
  {
   "cell_type": "markdown",
   "id": "d1f6494f-8134-4148-9832-dc084d8f4110",
   "metadata": {},
   "source": [
    "# Introdução ao Método de Monte Carlo Quântico\n",
    "\n",
    "O Método de Monte Carlo Quântico (QMC) é uma técnica numérica poderosa usada para resolver problemas complexos na física quântica. Ele combina a abordagem estatística do Monte Carlo com os fundamentos da mecânica quântica para calcular propriedades de sistemas quânticos interagentes ou não interagentes.\n",
    "\n",
    "## Motivação\n",
    "Sistemas quânticos com muitos corpos são difíceis de tratar analiticamente devido à alta dimensionalidade do espaço de estados e às interações entre partículas. Métodos de Monte Carlo fornecem uma maneira eficiente de explorar esse espaço de estados usando amostragem estatística.\n",
    "\n",
    "O QMC é amplamente utilizado em diversas áreas da física, incluindo:\n",
    "- Sistemas de muitos corpos (ex.: gases quânticos, líquidos de Fermi e bósons interagentes);\n",
    "- Simulações de materiais;\n",
    "- Física de partículas e teoria de campos.\n",
    "\n",
    "## Fundamentos do Método\n",
    "A ideia básica do QMC é usar métodos de Monte Carlo para resolver integrais de alta dimensão que aparecem frequentemente na mecânica quântica. No contexto de QMC, estas integrais geralmente estão associadas ao cálculo de valores esperados:\n",
    "\n",
    "$$\n",
    "\\langle O \\rangle = \\frac{\\int \\psi^*(x) O \\psi(x) \\, dx}{\\int \\psi^*(x) \\psi(x) \\, dx},\n",
    "$$\n",
    "\n",
    "onde:\n",
    "- \\( O \\) é o operador quântico (ex.: energia, posição);\n",
    "- $\\psi(x)$ é a função de onda do sistema.\n",
    "\n",
    "Ao invés de calcular diretamente as integrais (o que é impraticável em muitas dimensões), o QMC utiliza **amostragem de Monte Carlo** para estimar esses valores.\n",
    "\n",
    "## Técnicas Comuns de QMC\n",
    "### 1. Monte Carlo Variacional (VMC)\n",
    "O VMC usa uma função de onda parametrizada \\( \\psi_\\theta(x) \\) e busca minimizar a energia esperada:\n",
    "\n",
    "$$\n",
    "E[\\psi_\\theta] = \\frac{\\langle \\psi_\\theta | H | \\psi_\\theta \\rangle}{\\langle \\psi_\\theta | \\psi_\\theta \\rangle}.\n",
    "$$\n",
    "\n",
    "Essa técnica é ideal para encontrar aproximações para o estado fundamental de sistemas quânticos.\n",
    "\n",
    "### 2. Difusão Monte Carlo (DMC)\n",
    "O DMC melhora os resultados do VMC ao simular diretamente a evolução temporal da função de onda no limite de tempo infinito. Ele fornece soluções mais precisas para o estado fundamental.\n",
    "\n",
    "### 3. Método de Metropolis-Hastings\n",
    "Esse é um método central no QMC, usado para gerar amostras no espaço de configurações com uma distribuição proporcional a $ |\\psi(x)|^2 $. Ele permite que o QMC seja usado para amostrar estados quânticos de forma eficiente.\n",
    "\n",
    "## Vantagens e Limitações\n",
    "### Vantagens:\n",
    "- Permite estudar sistemas quânticos altamente complexos e de alta dimensionalidade.\n",
    "- Pode ser aplicado tanto a sistemas interagentes quanto a sistemas não interagentes.\n",
    "- Reduz o custo computacional em comparação com métodos determinísticos.\n",
    "\n",
    "### Limitações:\n",
    "- Exige conhecimento prévio ou uma boa aproximação da função de onda \\( \\psi(x) \\).\n",
    "- Pode sofrer do problema de \"sinal\", especialmente em sistemas fermiônicos.\n",
    "\n",
    "## Aplicações\n",
    "- Simulação de gases de bósons e férmions.\n",
    "- Estudo de transições de fase quânticas.\n",
    "- Cálculo de propriedades de materiais em física do estado sólido.\n",
    "\n",
    "---\n",
    "\n",
    "No decorrer deste notebook, implementaremos o Método de Monte Carlo Quântico assumindo que a função de onda do sistema é uma **gaussiana**. Começaremos explorando a amostragem de $ |\\psi(x)|^2 $ e calculando propriedades básicas do sistema.\n"
   ]
  },
  {
   "cell_type": "markdown",
   "id": "aadd73cd-9394-4b0e-87db-56bc8b11e800",
   "metadata": {},
   "source": [
    "# Define Simulation's Parameters Set"
   ]
  },
  {
   "cell_type": "code",
   "execution_count": 1,
   "id": "351b01c7-05bc-4582-9389-868d2f756b2f",
   "metadata": {},
   "outputs": [],
   "source": [
    "test_parameters = dict(n_qubits=1, n_shots=10, max_deph=100, step=2, isVerbose=True)\n",
    "exec_parameters = dict(n_qubits=10, n_shots=2500, max_deph=600, step=100, isVerbose=False)\n",
    "\n",
    "parameters_set = test_parameters"
   ]
  },
  {
   "cell_type": "code",
   "execution_count": null,
   "id": "dab33fd4-d32f-410a-b60e-0710ddcbffb8",
   "metadata": {},
   "outputs": [],
   "source": [
    "import numpy as np\n",
    "\n",
    "# Função de onda\n",
    "def psi(x, alpha):\n",
    "    return np.exp(-alpha * x**2)\n",
    "\n",
    "# Densidade de probabilidade\n",
    "def prob(x, alpha):\n",
    "    return np.abs(psi(x, alpha))**2\n"
   ]
  }
 ],
 "metadata": {
  "kernelspec": {
   "display_name": "Python 3 (ipykernel)",
   "language": "python",
   "name": "python3"
  },
  "language_info": {
   "codemirror_mode": {
    "name": "ipython",
    "version": 3
   },
   "file_extension": ".py",
   "mimetype": "text/x-python",
   "name": "python",
   "nbconvert_exporter": "python",
   "pygments_lexer": "ipython3",
   "version": "3.13.1"
  }
 },
 "nbformat": 4,
 "nbformat_minor": 5
}
