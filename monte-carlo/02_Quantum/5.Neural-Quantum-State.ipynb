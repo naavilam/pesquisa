{
 "cells": [
  {
   "cell_type": "markdown",
   "id": "c029fe45-86e5-492f-88f6-84ddf27689a1",
   "metadata": {},
   "source": [
    "<div class=\"alert alert-block alert-warning\">\n",
    "<b>Alert:</b> This QPU calculation costs $ 450.00 .\n",
    "</div>\n",
    "\n",
    "<div class=\"alert alert-block alert-success\">\n",
    "<b>This simulation runs a circuit with a varying number of gates for the purpose of detecting depolarization error. </b>\n",
    "<div>Obs. 1: The data is saved in external files so that it can be worked on without incurring new costs.</div>\n",
    "<div>Obs. 2: For new simulation parameters, save in a file with a different name.</div>\n",
    "</div>\n",
    "\n",
    "# Instructions if you are running outside AWS cloud\n",
    "\n",
    "1. Install aws-cli:\n",
    "\n",
    "`sudo apt install aws-cli`\n",
    "\n",
    "2. Setup aws credentials:\n",
    "\n",
    "`aws configure --profile \"default\"`\n",
    "\n",
    "3. Create virtual environment \n",
    "\n",
    "`python -m venv /path/to/new/virtual/environment`\n",
    "\n",
    "4. Activate virtual environment\n",
    "\n",
    "`source /path/to/new/virtual/environment/bin/activate`"
   ]
  },
  {
   "cell_type": "code",
   "execution_count": null,
   "id": "aff74cb5-66b6-4142-a03f-c521cae0843d",
   "metadata": {},
   "outputs": [],
   "source": [
    "# Install this modules on your virtual environment: an open source library for interacting\n",
    "# with quantum computing devices and simulators on Amazon Braket\n",
    "!pip install amazon-braket-sdk\n",
    "!pip install boto3"
   ]
  },
  {
   "cell_type": "markdown",
   "id": "e98422b4-6c8c-4ff8-92a1-9cef4942d0e2",
   "metadata": {},
   "source": [
    "### AWS login"
   ]
  },
  {
   "cell_type": "code",
   "execution_count": 4,
   "id": "df391b06-5381-4cfd-80dd-408eebc7f5ec",
   "metadata": {},
   "outputs": [],
   "source": [
    "from boto3 import Session\n",
    "from braket.aws import AwsSession\n",
    "\n",
    "# Start Boto3 Session with your credentials profile\n",
    "boto_session = Session(profile_name=\"default\")\n",
    "\n",
    "# Initialize Braket session with Boto3 Session credentials\n",
    "aws_session = AwsSession(boto_session=boto_session)"
   ]
  },
  {
   "cell_type": "markdown",
   "id": "b88b387f-c68a-452d-9654-365a6aa18f2b",
   "metadata": {},
   "source": [
    "# Importing modules"
   ]
  },
  {
   "cell_type": "code",
   "execution_count": 5,
   "id": "36a18296-6498-45a3-8e88-cbf2ba6e30d4",
   "metadata": {},
   "outputs": [],
   "source": [
    "from braket.tracking import Tracker\n",
    "\n",
    "t = Tracker().start()"
   ]
  },
  {
   "cell_type": "code",
   "execution_count": 6,
   "id": "a32ef92c-987d-496d-a12d-9f9f79d89f3d",
   "metadata": {},
   "outputs": [],
   "source": [
    "# AWS imports: Import Braket SDK modules\n",
    "import math\n",
    "\n",
    "from braket.circuits import Circuit, Observable\n",
    "from braket.devices import LocalSimulator"
   ]
  },
  {
   "cell_type": "code",
   "execution_count": 8,
   "id": "eceb6623-e07a-4752-a7b7-b7ce831c8fcc",
   "metadata": {},
   "outputs": [],
   "source": [
    "from braket.aws import AwsDevice, AwsQuantumTask\n",
    "from braket.error_mitigation import Debias"
   ]
  },
  {
   "cell_type": "markdown",
   "id": "aadd73cd-9394-4b0e-87db-56bc8b11e800",
   "metadata": {},
   "source": [
    "# Define Simulation's Parameters Set"
   ]
  },
  {
   "cell_type": "code",
   "execution_count": 1,
   "id": "351b01c7-05bc-4582-9389-868d2f756b2f",
   "metadata": {},
   "outputs": [],
   "source": [
    "test_parameters = dict(n_qubits=1, n_shots=10, max_deph=100, step=2, isVerbose=True)\n",
    "exec_parameters = dict(n_qubits=10, n_shots=2500, max_deph=600, step=100, isVerbose=False)\n",
    "\n",
    "parameters_set = test_parameters"
   ]
  }
 ],
 "metadata": {
  "kernelspec": {
   "display_name": "Python 3 (ipykernel)",
   "language": "python",
   "name": "python3"
  },
  "language_info": {
   "codemirror_mode": {
    "name": "ipython",
    "version": 3
   },
   "file_extension": ".py",
   "mimetype": "text/x-python",
   "name": "python",
   "nbconvert_exporter": "python",
   "pygments_lexer": "ipython3",
   "version": "3.13.1"
  }
 },
 "nbformat": 4,
 "nbformat_minor": 5
}
