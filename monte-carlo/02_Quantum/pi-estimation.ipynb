{
 "cells": [
  {
   "cell_type": "markdown",
   "id": "3eefd932-c3dd-4cb6-925c-60cfb8294000",
   "metadata": {},
   "source": [
    "<div class=\"alert alert-block alert-warning\">\n",
    "<b>Costs:</b> This QPU simulation costs [???] dollars.\n",
    "</div>"
   ]
  },
  {
   "cell_type": "markdown",
   "id": "899ae9ce-f9aa-4315-9d0d-a6d906d483ac",
   "metadata": {},
   "source": [
    "<div class=\"alert alert-block alert-success\">\n",
    "<b>This simulation estimates pi value using monte carlo. </b>\n",
    "<div>Obs. 1: The data is saved in external files so that it can be worked on without incurring new costs.</div>\n",
    "<div>Obs. 2: For new simulation parameters, save in a file with a different name.</div>\n",
    "</div>"
   ]
  },
  {
   "cell_type": "markdown",
   "id": "0b127feb-571a-4a7c-8395-9d676bd89bff",
   "metadata": {},
   "source": [
    "# Instructions if you are running outside AWS cloud\n",
    "\n",
    "1. Install aws-cli:\n",
    "\n",
    "`sudo apt install aws-cli`\n",
    "\n",
    "2. Setup aws credentials:\n",
    "\n",
    "`aws configure --profile \"default\"`\n",
    "\n",
    "3. Create virtual environment \n",
    "\n",
    "`python -m venv /path/to/new/virtual/environment`\n",
    "\n",
    "4. Activate virtual environment\n",
    "\n",
    "`source /path/to/new/virtual/environment/bin/activate`"
   ]
  },
  {
   "cell_type": "code",
   "execution_count": null,
   "id": "08113c18-e16d-4eaa-bec5-4dca77453d1f",
   "metadata": {},
   "outputs": [],
   "source": [
    "# Install all required modules on your virtual environment\n",
    "!pip install requirements.txt"
   ]
  },
  {
   "cell_type": "markdown",
   "id": "5c58f9b0-fd1b-41dc-921d-66bc9c5e1f5c",
   "metadata": {},
   "source": [
    "# Iniciando sessão remota na AWS cloud"
   ]
  },
  {
   "cell_type": "code",
   "execution_count": 19,
   "id": "954ddb05-ae97-4d76-b723-7bbc401b451d",
   "metadata": {},
   "outputs": [],
   "source": [
    "from boto3 import Session\n",
    "from braket.aws import AwsSession\n",
    "\n",
    "# Start Boto3 Session with your credentials profile\n",
    "boto_session = Session(profile_name='default')\n",
    "\n",
    "# Initialize Braket session with Boto3 Session credentials\n",
    "aws_session = AwsSession(boto_session=boto_session)"
   ]
  },
  {
   "cell_type": "markdown",
   "id": "1e8d1923-2c10-4b5f-9956-d31b0661076c",
   "metadata": {},
   "source": [
    "# Importando Backends - Computadores Quânticos"
   ]
  },
  {
   "cell_type": "code",
   "execution_count": 20,
   "id": "e315c8ed-3674-4f79-98ff-663aed7a1971",
   "metadata": {},
   "outputs": [
    {
     "name": "stdout",
     "output_type": "stream",
     "text": [
      "Dispositivos disponíveis na AWS Braket:\n",
      "0: Nome: Ankaa-2, Tipo: AwsDeviceType.QPU, ARN: arn:aws:braket:us-west-1::device/qpu/rigetti/Ankaa-2\n",
      "1: Nome: Aquila, Tipo: AwsDeviceType.QPU, ARN: arn:aws:braket:us-east-1::device/qpu/quera/Aquila\n",
      "2: Nome: Aria 1, Tipo: AwsDeviceType.QPU, ARN: arn:aws:braket:us-east-1::device/qpu/ionq/Aria-1\n",
      "3: Nome: Aria 2, Tipo: AwsDeviceType.QPU, ARN: arn:aws:braket:us-east-1::device/qpu/ionq/Aria-2\n",
      "4: Nome: Forte 1, Tipo: AwsDeviceType.QPU, ARN: arn:aws:braket:us-east-1::device/qpu/ionq/Forte-1\n",
      "5: Nome: Garnet, Tipo: AwsDeviceType.QPU, ARN: arn:aws:braket:eu-north-1::device/qpu/iqm/Garnet\n",
      "6: Nome: SV1, Tipo: AwsDeviceType.SIMULATOR, ARN: arn:aws:braket:::device/quantum-simulator/amazon/sv1\n",
      "7: Nome: TN1, Tipo: AwsDeviceType.SIMULATOR, ARN: arn:aws:braket:::device/quantum-simulator/amazon/tn1\n",
      "8: Nome: dm1, Tipo: AwsDeviceType.SIMULATOR, ARN: arn:aws:braket:::device/quantum-simulator/amazon/dm1\n"
     ]
    }
   ],
   "source": [
    "from braket.aws import AwsDevice\n",
    "\n",
    "# Recupera os dispositivos disponíveis\n",
    "devices = AwsDevice.get_devices()\n",
    "\n",
    "print(\"Dispositivos disponíveis na AWS Braket:\")\n",
    "for idx, device in enumerate(devices):\n",
    "    print(f\"{idx}: Nome: {device.name}, Tipo: {device.type}, ARN: {device.arn}\")"
   ]
  },
  {
   "cell_type": "code",
   "execution_count": 21,
   "id": "d40e5820-52e7-4e29-8f12-c6ad97314f21",
   "metadata": {},
   "outputs": [
    {
     "name": "stdin",
     "output_type": "stream",
     "text": [
      "Selecione o índice do dispositivo desejado:  6\n"
     ]
    },
    {
     "name": "stdout",
     "output_type": "stream",
     "text": [
      "Dispositivo selecionado: SV1, ARN: arn:aws:braket:::device/quantum-simulator/amazon/sv1\n"
     ]
    }
   ],
   "source": [
    "# Selecionar um dispositivo pelo índice da lista\n",
    "device_index = int(input(\"Selecione o índice do dispositivo desejado: \"))\n",
    "selected_device = devices[device_index]\n",
    "\n",
    "print(f\"Dispositivo selecionado: {selected_device.name}, ARN: {selected_device.arn}\")"
   ]
  },
  {
   "cell_type": "code",
   "execution_count": 65,
   "id": "867868ca-7bc7-4471-831f-a36635b3c618",
   "metadata": {},
   "outputs": [
    {
     "name": "stdin",
     "output_type": "stream",
     "text": [
      "Digite o número de pontos desejados na simulação:  1000\n"
     ]
    },
    {
     "name": "stdout",
     "output_type": "stream",
     "text": [
      "Para gerar 1000 pontos, você precisará de 10 qubits.\n"
     ]
    }
   ],
   "source": [
    "import math\n",
    "\n",
    "def calcular_qubits(pontos):\n",
    "    # Calcular o número mínimo de qubits necessários\n",
    "    qubits = math.ceil(math.log2(pontos))\n",
    "    return qubits\n",
    "\n",
    "# Pedir ao usuário o número de pontos desejados\n",
    "pontos_desejados = int(input(\"Digite o número de pontos desejados na simulação: \"))\n",
    "qubits_necessarios = calcular_qubits(pontos_desejados)\n",
    "\n",
    "# Mostrar o resultado\n",
    "print(f\"Para gerar {pontos_desejados} pontos, você precisará de {qubits_necessarios} qubits.\")\n"
   ]
  },
  {
   "cell_type": "code",
   "execution_count": 68,
   "id": "e1eb7760-bb01-4b22-9ade-bab4a460972b",
   "metadata": {},
   "outputs": [
    {
     "name": "stdout",
     "output_type": "stream",
     "text": [
      "Enviando o circuito para o dispositivo...\n",
      "ARN da tarefa enviada: arn:aws:braket:us-east-1:709381776175:quantum-task/a49bd798-4a08-4ea3-8779-0b86fa872971\n",
      "Monitorando o estado da tarefa...\n",
      "Estado atual: QUEUED\n",
      "Estado atual: COMPLETED\n",
      "A tarefa foi concluída!\n",
      "92\n"
     ]
    }
   ],
   "source": [
    "from braket.aws import AwsDevice\n",
    "from braket.circuits import Circuit\n",
    "import time\n",
    "\n",
    "# Selecionar o dispositivo (exemplo: simulador SV1)\n",
    "device = selected_device\n",
    "\n",
    "# Criar o circuito quântico com 20 qubits\n",
    "\n",
    "circuit = Circuit()\n",
    "num_qubits = qubits_necessarios\n",
    "\n",
    "# Aplicar portas Hadamard para criar uma superposição em todos os 20 qubits\n",
    "for i in range(num_qubits):\n",
    "    circuit.h(i)\n",
    "\n",
    "# Medir todos os 20 qubits\n",
    "for i in range(num_qubits):\n",
    "    circuit.measure(i)\n",
    "\n",
    "# Enviar o circuito para o dispositivo\n",
    "shots = 100  # Número de execuções\n",
    "# Enviar o circuito para execução no dispositivo\n",
    "print(\"Enviando o circuito para o dispositivo...\")\n",
    "task = device.run(circuit, shots=shots)\n",
    "\n",
    "# Obter o ARN da tarefa\n",
    "task_arn = task.id\n",
    "print(f\"ARN da tarefa enviada: {task_arn}\")\n",
    "\n",
    "# Monitorar o estado da tarefa\n",
    "print(\"Monitorando o estado da tarefa...\")\n",
    "while True:\n",
    "    status = task.state()\n",
    "    print(f\"Estado atual: {status}\")\n",
    "    if status == \"COMPLETED\":\n",
    "        print(\"A tarefa foi concluída!\")\n",
    "        break\n",
    "    elif status == \"FAILED\":\n",
    "        print(\"A tarefa falhou.\")\n",
    "        break\n",
    "    time.sleep(5)  # Aguarda 5 segundos antes de verificar novamente\n",
    "\n",
    "# Recuperar os resultados após a conclusão\n",
    "if status == \"COMPLETED\":\n",
    "    result = task.result()\n",
    "    #print(\"Resultados das medições:\", result.measurement_counts)\n",
    "    \n",
    "resultados = result.measurement_counts\n",
    "numero_pontos = len(resultados)\n",
    "print(numero_pontos)"
   ]
  },
  {
   "cell_type": "code",
   "execution_count": 69,
   "id": "94e77533-b117-4d73-9642-64b9305a90ec",
   "metadata": {},
   "outputs": [
    {
     "name": "stdout",
     "output_type": "stream",
     "text": [
      "Total de bitstrings únicas processadas: 92\n",
      "Estimativa de π: 2.8260869565217392\n"
     ]
    },
    {
     "data": {
      "image/png": "[encoded data removed]",
      "text/plain": [
       "<Figure size 800x800 with 1 Axes>"
      ]
     },
     "metadata": {},
     "output_type": "display_data"
    }
   ],
   "source": [
    "import matplotlib.pyplot as plt\n",
    "\n",
    "# Inicializar listas para armazenar pontos\n",
    "x_points = []\n",
    "y_points = []\n",
    "colors = []  # Para armazenar as cores dos pontos\n",
    "inside_circle = 0\n",
    "\n",
    "# Criar um conjunto para rastrear bitstrings únicas\n",
    "unique_bitstrings = set()\n",
    "\n",
    "# Processar as medições\n",
    "for outcome, count in result.measurement_counts.items():\n",
    "    # Garantir que cada bitstring seja processada apenas uma vez\n",
    "    if outcome not in unique_bitstrings:\n",
    "        unique_bitstrings.add(outcome)\n",
    "\n",
    "        # Dividir bitstring em x e y\n",
    "        mid_point = num_qubits // 2\n",
    "        x_bits = outcome[:mid_point]\n",
    "        y_bits = outcome[mid_point:]\n",
    "\n",
    "        # Converter bits para valores entre -0.5 e 0.5\n",
    "        x = int(x_bits, 2) / (2 ** mid_point) - 0.5\n",
    "        y = int(y_bits, 2) / (2 ** mid_point) - 0.5\n",
    "        r_squared = x**2 + y**2\n",
    "\n",
    "        # Verificar se o ponto está dentro do círculo\n",
    "        if r_squared <= 0.25:  # Raio do círculo é 0.5\n",
    "            inside_circle += 1\n",
    "            colors.append(\"blue\")  # Dentro do círculo\n",
    "        else:\n",
    "            colors.append(\"red\")  # Fora do círculo\n",
    "\n",
    "        # Armazenar os pontos para o gráfico\n",
    "        x_points.append(x)\n",
    "        y_points.append(y)\n",
    "\n",
    "# Exibir número de bitstrings únicas processadas\n",
    "print(f\"Total de bitstrings únicas processadas: {len(unique_bitstrings)}\")\n",
    "\n",
    "numero_pontos = len(unique_bitstrings)\n",
    "\n",
    "# Calcular π\n",
    "pi_estimate = 4 * (inside_circle / (numero_pontos))\n",
    "print(f\"Estimativa de π: {pi_estimate}\")\n",
    "\n",
    "# Criar o gráfico\n",
    "plt.figure(figsize=(8, 8))\n",
    "plt.scatter(x_points, y_points, c=colors, s=1, alpha=0.5, label=\"Pontos simulados\")\n",
    "circle = plt.Circle((0, 0), 0.5, color=\"green\", fill=False, linewidth=2, label=\"Círculo de raio 0.5\")\n",
    "plt.gca().add_artist(circle)\n",
    "\n",
    "# # Ajustar limites para mostrar todo o círculo\n",
    "# plt.xlim(-0.6, 0.6)\n",
    "# plt.ylim(-0.6, 0.6)\n",
    "\n",
    "# Configurações do gráfico\n",
    "\n",
    "plt.title(f\"Simulação de Monte Carlo com {numero_pontos} pontos (Estimativa de π: {pi_estimate:.4f})\")\n",
    "plt.xlabel(\"x\")\n",
    "plt.ylabel(\"y\")\n",
    "plt.axis(\"equal\")\n",
    "plt.legend([\"Dentro do círculo\", \"Fora do círculo\", \"Círculo de raio 0.5\"], loc=\"upper right\")\n",
    "plt.grid(True)\n",
    "\n",
    "# Mostrar o gráfico\n",
    "plt.show()"
   ]
  }
 ],
 "metadata": {
  "kernelspec": {
   "display_name": "Python (venv)",
   "language": "python",
   "name": "venv"
  },
  "language_info": {
   "codemirror_mode": {
    "name": "ipython",
    "version": 3
   },
   "file_extension": ".py",
   "mimetype": "text/x-python",
   "name": "python",
   "nbconvert_exporter": "python",
   "pygments_lexer": "ipython3",
   "version": "3.13.1"
  }
 },
 "nbformat": 4,
 "nbformat_minor": 5
}
