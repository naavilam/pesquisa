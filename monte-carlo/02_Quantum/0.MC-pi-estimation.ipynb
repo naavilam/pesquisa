{
 "cells": [
  {
   "cell_type": "markdown",
   "id": "3eefd932-c3dd-4cb6-925c-60cfb8294000",
   "metadata": {},
   "source": [
    "<div class=\"alert alert-block alert-warning\">\n",
    "<b>Costs:</b> This QPU simulation costs [???] dollars.\n",
    "</div>"
   ]
  },
  {
   "cell_type": "markdown",
   "id": "899ae9ce-f9aa-4315-9d0d-a6d906d483ac",
   "metadata": {},
   "source": [
    "<div class=\"alert alert-block alert-success\">\n",
    "<b>This simulation estimates pi value using monte carlo. </b>\n",
    "<div>Obs. 1: The data is saved in external files so that it can be worked on without incurring new costs.</div>\n",
    "<div>Obs. 2: For new simulation parameters, save in a file with a different name.</div>\n",
    "</div>"
   ]
  },
  {
   "cell_type": "markdown",
   "id": "0b127feb-571a-4a7c-8395-9d676bd89bff",
   "metadata": {},
   "source": [
    "# Instructions if you are running outside AWS cloud\n",
    "\n",
    "1. Install aws-cli:\n",
    "\n",
    "`sudo apt install aws-cli`\n",
    "\n",
    "2. Setup aws credentials:\n",
    "\n",
    "`aws configure --profile \"default\"`\n",
    "\n",
    "3. Create virtual environment \n",
    "\n",
    "`python -m venv /path/to/new/virtual/environment`\n",
    "\n",
    "4. Activate virtual environment\n",
    "\n",
    "`source /path/to/new/virtual/environment/bin/activate`"
   ]
  },
  {
   "cell_type": "code",
   "execution_count": null,
   "id": "08113c18-e16d-4eaa-bec5-4dca77453d1f",
   "metadata": {},
   "outputs": [],
   "source": [
    "# Install all required modules on your virtual environment\n",
    "!pip install requirements.txt"
   ]
  },
  {
   "cell_type": "markdown",
   "id": "5c58f9b0-fd1b-41dc-921d-66bc9c5e1f5c",
   "metadata": {},
   "source": [
    "# Iniciando sessão remota na AWS cloud"
   ]
  },
  {
   "cell_type": "code",
   "execution_count": 1,
   "id": "954ddb05-ae97-4d76-b723-7bbc401b451d",
   "metadata": {},
   "outputs": [],
   "source": [
    "from boto3 import Session\n",
    "from braket.aws import AwsSession\n",
    "\n",
    "# Start Boto3 Session with your credentials profile\n",
    "boto_session = Session(profile_name='default')\n",
    "\n",
    "# Initialize Braket session with Boto3 Session credentials\n",
    "aws_session = AwsSession(boto_session=boto_session)"
   ]
  },
  {
   "cell_type": "markdown",
   "id": "1e8d1923-2c10-4b5f-9956-d31b0661076c",
   "metadata": {},
   "source": [
    "# Importando Backends - Computadores Quânticos"
   ]
  },
  {
   "cell_type": "code",
   "execution_count": 2,
   "id": "e315c8ed-3674-4f79-98ff-663aed7a1971",
   "metadata": {},
   "outputs": [
    {
     "name": "stdout",
     "output_type": "stream",
     "text": [
      "Dispositivos disponíveis na AWS Braket:\n",
      "0: Nome: Aquila, Tipo: AwsDeviceType.QPU, ARN: arn:aws:braket:us-east-1::device/qpu/quera/Aquila\n",
      "1: Nome: Aria 1, Tipo: AwsDeviceType.QPU, ARN: arn:aws:braket:us-east-1::device/qpu/ionq/Aria-1\n",
      "2: Nome: Aria 2, Tipo: AwsDeviceType.QPU, ARN: arn:aws:braket:us-east-1::device/qpu/ionq/Aria-2\n",
      "3: Nome: Forte 1, Tipo: AwsDeviceType.QPU, ARN: arn:aws:braket:us-east-1::device/qpu/ionq/Forte-1\n",
      "4: Nome: Garnet, Tipo: AwsDeviceType.QPU, ARN: arn:aws:braket:eu-north-1::device/qpu/iqm/Garnet\n",
      "5: Nome: SV1, Tipo: AwsDeviceType.SIMULATOR, ARN: arn:aws:braket:::device/quantum-simulator/amazon/sv1\n",
      "6: Nome: TN1, Tipo: AwsDeviceType.SIMULATOR, ARN: arn:aws:braket:::device/quantum-simulator/amazon/tn1\n",
      "7: Nome: dm1, Tipo: AwsDeviceType.SIMULATOR, ARN: arn:aws:braket:::device/quantum-simulator/amazon/dm1\n"
     ]
    }
   ],
   "source": [
    "from braket.aws import AwsDevice\n",
    "\n",
    "# Recupera os dispositivos disponíveis\n",
    "devices = AwsDevice.get_devices()\n",
    "\n",
    "print(\"Dispositivos disponíveis na AWS Braket:\")\n",
    "for idx, device in enumerate(devices):\n",
    "    print(f\"{idx}: Nome: {device.name}, Tipo: {device.type}, ARN: {device.arn}\")"
   ]
  },
  {
   "cell_type": "code",
   "execution_count": 3,
   "id": "d40e5820-52e7-4e29-8f12-c6ad97314f21",
   "metadata": {},
   "outputs": [
    {
     "name": "stdin",
     "output_type": "stream",
     "text": [
      "Selecione o índice do dispositivo desejado:  6\n"
     ]
    },
    {
     "name": "stdout",
     "output_type": "stream",
     "text": [
      "Dispositivo selecionado: TN1, ARN: arn:aws:braket:::device/quantum-simulator/amazon/tn1\n"
     ]
    }
   ],
   "source": [
    "# Selecionar um dispositivo pelo índice da lista\n",
    "device_index = int(input(\"Selecione o índice do dispositivo desejado: \"))\n",
    "selected_device = devices[device_index]\n",
    "\n",
    "print(f\"Dispositivo selecionado: {selected_device.name}, ARN: {selected_device.arn}\")"
   ]
  },
  {
   "cell_type": "code",
   "execution_count": 7,
   "id": "867868ca-7bc7-4471-831f-a36635b3c618",
   "metadata": {},
   "outputs": [
    {
     "name": "stdin",
     "output_type": "stream",
     "text": [
      "Digite o número de pontos desejados na simulação:  10000\n"
     ]
    },
    {
     "name": "stdout",
     "output_type": "stream",
     "text": [
      "Para gerar 10000 pontos, você precisará de 14 qubits.\n"
     ]
    }
   ],
   "source": [
    "import math\n",
    "\n",
    "def calcular_qubits(pontos):\n",
    "    # Calcular o número mínimo de qubits necessários\n",
    "    qubits = math.ceil(math.log2(pontos))\n",
    "    return qubits\n",
    "\n",
    "# Pedir ao usuário o número de pontos desejados\n",
    "pontos_desejados = int(input(\"Digite o número de pontos desejados na simulação: \"))\n",
    "qubits_necessarios = calcular_qubits(pontos_desejados)\n",
    "\n",
    "# Mostrar o resultado\n",
    "print(f\"Para gerar {pontos_desejados} pontos, você precisará de {qubits_necessarios} qubits.\")\n"
   ]
  },
  {
   "cell_type": "code",
   "execution_count": 11,
   "id": "e1eb7760-bb01-4b22-9ade-bab4a460972b",
   "metadata": {},
   "outputs": [
    {
     "name": "stdout",
     "output_type": "stream",
     "text": [
      "Enviando o circuito para o dispositivo...\n",
      "ARN da tarefa enviada: arn:aws:braket:us-east-1:709381776175:quantum-task/53a151e1-5ac6-400b-9a92-c12d9263559b\n",
      "Monitorando o estado da tarefa...\n",
      "Estado atual: QUEUED\n",
      "Estado atual: RUNNING\n",
      "Estado atual: RUNNING\n",
      "Estado atual: COMPLETED\n",
      "A tarefa foi concluída!\n",
      "Resultados das medições: Counter({'00011011011101': 1, '00111111000110': 1, '11111010000100': 1, '10010011110111': 1, '10001001110001': 1, '10101111000101': 1, '01000010110001': 1, '00000100111100': 1, '01001100100111': 1, '10100101001110': 1, '01000011110001': 1, '11100110001111': 1, '10101001011001': 1, '10001010001110': 1, '11001001110110': 1, '01001100100011': 1, '01110100011011': 1, '10111101110110': 1, '10100111011111': 1, '00011101100101': 1, '10011011010111': 1, '10101101000000': 1, '01010000101011': 1, '10111000101110': 1, '11100100100000': 1, '10011001010110': 1, '10111111011111': 1, '00101001000101': 1, '11101010011011': 1, '01111101010101': 1, '00000011100100': 1, '11101111001100': 1, '00101011111100': 1, '11000001011001': 1, '10001111001101': 1, '11001000010110': 1, '00001011100001': 1, '11111101111100': 1, '11000100101011': 1, '10110101110000': 1, '10110100010010': 1, '11100111011001': 1, '01100010000010': 1, '11100001010011': 1, '00100100100111': 1, '11011001101010': 1, '11100100110011': 1, '00010100111100': 1, '10011010001011': 1, '10001100011001': 1, '00111000110011': 1, '11001101011011': 1, '00101001000000': 1, '11110011101110': 1, '10110000101111': 1, '01001111011111': 1, '11110010001000': 1, '10111111100010': 1, '11110110100101': 1, '11000111110011': 1, '11110101101101': 1, '01011010100111': 1, '00000000101010': 1, '00010111011110': 1, '01100000010111': 1, '10000111110000': 1, '11000001100010': 1, '01001010000110': 1, '00101011010001': 1, '10001111011110': 1, '01111110001011': 1, '10101010011110': 1, '00101000110000': 1, '00100111100011': 1, '11111111111111': 1, '01001110001110': 1, '10000011011000': 1, '01011110000101': 1, '11110000100110': 1, '00101010000010': 1, '01101100110100': 1, '01110101010010': 1, '01111100110101': 1, '01101110000111': 1, '10100011000100': 1, '11101111011001': 1, '01111111010011': 1, '01110101111111': 1, '01100011110111': 1, '00110111110010': 1, '11011100011000': 1, '10110100000001': 1, '10011011101010': 1, '10011111101000': 1, '01010011010101': 1, '01101001000100': 1, '00100111001010': 1, '00011101100010': 1, '11111000110011': 1, '00111011000001': 1})\n",
      "100\n"
     ]
    }
   ],
   "source": [
    "from braket.aws import AwsDevice\n",
    "from braket.circuits import Circuit\n",
    "import time\n",
    "\n",
    "# Selecionar o dispositivo (exemplo: simulador SV1)\n",
    "device = selected_device\n",
    "\n",
    "# Criar o circuito quântico com 20 qubits\n",
    "\n",
    "circuit = Circuit()\n",
    "num_qubits = qubits_necessarios\n",
    "\n",
    "# Aplicar portas Hadamard para criar uma superposição em todos os 20 qubits\n",
    "for i in range(num_qubits):\n",
    "    circuit.h(i)\n",
    "\n",
    "# Medir todos os 20 qubits\n",
    "for i in range(num_qubits):\n",
    "    circuit.measure(i)\n",
    "\n",
    "# Enviar o circuito para o dispositivo\n",
    "shots = 100  # Número de execuções\n",
    "# Enviar o circuito para execução no dispositivo\n",
    "print(\"Enviando o circuito para o dispositivo...\")\n",
    "task = device.run(circuit, shots=shots)\n",
    "\n",
    "# Obter o ARN da tarefa\n",
    "task_arn = task.id\n",
    "print(f\"ARN da tarefa enviada: {task_arn}\")\n",
    "\n",
    "# Monitorar o estado da tarefa\n",
    "print(\"Monitorando o estado da tarefa...\")\n",
    "while True:\n",
    "    status = task.state()\n",
    "    print(f\"Estado atual: {status}\")\n",
    "    if status == \"COMPLETED\":\n",
    "        print(\"A tarefa foi concluída!\")\n",
    "        break\n",
    "    elif status == \"FAILED\":\n",
    "        print(\"A tarefa falhou.\")\n",
    "        break\n",
    "    time.sleep(5)  # Aguarda 5 segundos antes de verificar novamente\n",
    "\n",
    "# Recuperar os resultados após a conclusão\n",
    "if status == \"COMPLETED\":\n",
    "    result = task.result()\n",
    "    print(\"Resultados das medições:\", result.measurement_counts)\n",
    "    \n",
    "resultados = result.measurement_counts\n",
    "numero_pontos = len(resultados)\n",
    "print(numero_pontos)"
   ]
  },
  {
   "cell_type": "code",
   "execution_count": 9,
   "id": "94e77533-b117-4d73-9642-64b9305a90ec",
   "metadata": {},
   "outputs": [
    {
     "name": "stdout",
     "output_type": "stream",
     "text": [
      "Total de bitstrings únicas processadas: 100\n",
      "Estimativa de π: 3.36\n"
     ]
    },
    {
     "data": {
      "image/png": "[encoded data removed]",
      "text/plain": [
       "<Figure size 800x800 with 1 Axes>"
      ]
     },
     "metadata": {},
     "output_type": "display_data"
    }
   ],
   "source": [
    "import matplotlib.pyplot as plt\n",
    "\n",
    "# Inicializar listas para armazenar pontos\n",
    "x_points = []\n",
    "y_points = []\n",
    "colors = []  # Para armazenar as cores dos pontos\n",
    "inside_circle = 0\n",
    "\n",
    "# Criar um conjunto para rastrear bitstrings únicas\n",
    "unique_bitstrings = set()\n",
    "\n",
    "# Processar as medições\n",
    "for outcome, count in result.measurement_counts.items():\n",
    "    # Garantir que cada bitstring seja processada apenas uma vez\n",
    "    if outcome not in unique_bitstrings:\n",
    "        unique_bitstrings.add(outcome)\n",
    "\n",
    "        # Dividir bitstring em x e y\n",
    "        mid_point = num_qubits // 2\n",
    "        x_bits = outcome[:mid_point]\n",
    "        y_bits = outcome[mid_point:]\n",
    "\n",
    "        # Converter bits para valores entre -0.5 e 0.5\n",
    "        x = int(x_bits, 2) / (2 ** mid_point) - 0.5\n",
    "        y = int(y_bits, 2) / (2 ** mid_point) - 0.5\n",
    "        r_squared = x**2 + y**2\n",
    "\n",
    "        # Verificar se o ponto está dentro do círculo\n",
    "        if r_squared <= 0.25:  # Raio do círculo é 0.5\n",
    "            inside_circle += 1\n",
    "            colors.append(\"blue\")  # Dentro do círculo\n",
    "        else:\n",
    "            colors.append(\"red\")  # Fora do círculo\n",
    "\n",
    "        # Armazenar os pontos para o gráfico\n",
    "        x_points.append(x)\n",
    "        y_points.append(y)\n",
    "\n",
    "# Exibir número de bitstrings únicas processadas\n",
    "print(f\"Total de bitstrings únicas processadas: {len(unique_bitstrings)}\")\n",
    "\n",
    "numero_pontos = len(unique_bitstrings)\n",
    "\n",
    "# Calcular π\n",
    "pi_estimate = 4 * (inside_circle / (numero_pontos))\n",
    "print(f\"Estimativa de π: {pi_estimate}\")\n",
    "\n",
    "# Criar o gráfico\n",
    "plt.figure(figsize=(8, 8))\n",
    "plt.scatter(x_points, y_points, c=colors, s=1, alpha=0.5, label=\"Pontos simulados\")\n",
    "circle = plt.Circle((0, 0), 0.5, color=\"green\", fill=False, linewidth=2, label=\"Círculo de raio 0.5\")\n",
    "plt.gca().add_artist(circle)\n",
    "\n",
    "# # Ajustar limites para mostrar todo o círculo\n",
    "# plt.xlim(-0.6, 0.6)\n",
    "# plt.ylim(-0.6, 0.6)\n",
    "\n",
    "# Configurações do gráfico\n",
    "\n",
    "plt.title(f\"Simulação de Monte Carlo com {numero_pontos} pontos (Estimativa de π: {pi_estimate:.4f})\")\n",
    "plt.xlabel(\"x\")\n",
    "plt.ylabel(\"y\")\n",
    "plt.axis(\"equal\")\n",
    "plt.legend([\"Dentro do círculo\", \"Fora do círculo\", \"Círculo de raio 0.5\"], loc=\"upper right\")\n",
    "plt.grid(True)\n",
    "\n",
    "# Mostrar o gráfico\n",
    "plt.show()"
   ]
  },
  {
   "cell_type": "code",
   "execution_count": null,
   "id": "63782dbf-37f6-4b70-9646-5eba1ab8f22b",
   "metadata": {},
   "outputs": [],
   "source": []
  }
 ],
 "metadata": {
  "kernelspec": {
   "display_name": "Python 3 (ipykernel)",
   "language": "python",
   "name": "python3"
  },
  "language_info": {
   "codemirror_mode": {
    "name": "ipython",
    "version": 3
   },
   "file_extension": ".py",
   "mimetype": "text/x-python",
   "name": "python",
   "nbconvert_exporter": "python",
   "pygments_lexer": "ipython3",
   "version": "3.13.1"
  }
 },
 "nbformat": 4,
 "nbformat_minor": 5
}
