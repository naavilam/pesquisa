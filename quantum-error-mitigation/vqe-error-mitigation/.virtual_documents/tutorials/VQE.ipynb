%load_ext autoreload
%autoreload 2




















from qiskit import QuantumCircuit, execute, Aer
from qiskit.aqua import QuantumInstance
from qiskit.aqua.operators import PauliExpectation, CircuitStateFn, CircuitSampler, StateFn
from qiskit.aqua.operators import MatrixExpectation, AerPauliExpectation
from qiskit.aqua.operators import X, Y, Z, I
from qiskit import QuantumCircuit, ClassicalRegister, QuantumRegister
import numpy as np
import matplotlib.pyplot as plt

np.set_printoptions(precision=3)


# H2-molecule Hamiltonian 
op =  (-1.0523732 * I^I) + (0.39793742 * I^Z) + (-0.3979374 * Z^I) \
    + (-0.0112801 * Z^Z) + (0.18093119 * X^X)


# define the state you w.r.t. which you want the expectation value
psi = QuantumCircuit(2)
# convert to a state
psi = CircuitStateFn(psi)


# "Mathematical" < psi | O | psi > 
print('Math:', psi.adjoint().compose(op).compose(psi).eval().real)


# Shot-based Results

backend = Aer.get_backend('qasm_simulator') 
q_instance = QuantumInstance(backend, shots=1024)

# define the state to sample
measurable_expression = StateFn(op, is_measurement=True).compose(psi) 

# convert to expectation value
expectations = {}
expectations['shots'] = PauliExpectation().convert(measurable_expression)
expectations['aer'] = AerPauliExpectation().convert(measurable_expression)
expectations['matrix'] = MatrixExpectation().convert(measurable_expression)

samplers = {}
for label, expectation  in expectations.items():
    samplers[label] = CircuitSampler(q_instance).convert(expectations[label]) 

# evaluate
for label, sampler  in samplers.items():
    print(label + ": ", sampler.eval().real)  











backend = Aer.get_backend('qasm_simulator') 
q_instance = QuantumInstance(backend, shots=1024)

# setup random hermitian 
np.random.seed(0)
rand_coeff = np.random.randn(4)
op = rand_coeff[0]*I + rand_coeff[1]*X + rand_coeff[2]*Y + rand_coeff[3]*Z
op_np = op.to_matrix()

def get_var_circuit(params):
    qr = QuantumRegister(1, name="q")
    psi_qc = QuantumCircuit(qr)
    psi_qc.u(params[0], params[1], params[2], qr[0])
    return psi_qc

def get_measurable_expression(params):
    psi_qc = get_var_circuit(params)
    psi_qc = CircuitStateFn(psi_qc)
    return StateFn(op, is_measurement=True).compose(psi_qc) 
    
def objective_function(params):
    # Obtain a quantum circuit instance from the paramters
    measurable_expression = get_measurable_expression(params)
    expectation = AerPauliExpectation().convert(measurable_expression)
    sampler = CircuitSampler(q_instance).convert(expectation)
    return sampler.eval().real

print(objective_function([0.1,.1,2]))


from qiskit.aqua.components.optimizers import COBYLA

# Initialize the COBYLA optimizer
optimizer = COBYLA(maxiter=500, tol=0.0001)

# Create the initial parameters (noting that our single qubit variational form has 3 parameters)
params = np.random.rand(3)
ret = optimizer.optimize(num_vars=3, objective_function=objective_function, initial_point=params)


# Obtain the output distribution using the final parameters
lambda_min = objective_function(ret[0])


# comparison of Ground State Energy
print("Parameters Found: ", ret[0])
print("\nGround State Energy (vqe): {:.8f}".format(lambda_min))
v,w = np.linalg.eigh(op_np)
print("Ground State Energy (exact): {:.8f}".format(v[0]))
print("Percent difference: " + str((lambda_min - v[0])/np.abs(v[0])*100) + "%")

# comparison of Ground State
backend_statevector = Aer.get_backend('statevector_simulator')
ground_state_vqe_qc = get_var_circuit(ret[0])
ground_state_exact = w[:,0] # take first eigenvector
result = execute(ground_state_vqe_qc,backend_statevector).result()
ground_state_vqe = result.get_statevector()

print("\nGround State (vqe): \n", ground_state_vqe)
print("Ground State (exact): \n", ground_state_exact)
ground_state_vqe_qc.draw()











backend = Aer.get_backend('qasm_simulator') 
q_instance = QuantumInstance(backend, shots=1024)

# setup random hermitian 
np.random.seed(0)
rand_coeff = np.random.randn(16)
op =  (-1.0523732 * I^I) + (0.39793742 * I^Z) + (-0.3979374 * Z^I) \
    + (-0.0112801 * Z^Z) + (0.18093119 * X^X)

op_np = op.to_matrix()


def get_var_circuit(params):
    qr = QuantumRegister(2, name="q")
    psi_qc = QuantumCircuit(qr)
    psi_qc.u(params[0], params[1], params[2], qr[0])
    psi_qc.u(params[3], params[4], params[5], qr[1])
    psi_qc.cx(qr[1], qr[0])
    
    psi_qc.u(params[6], params[7], params[8], qr[0])
    psi_qc.u(params[9], params[10], params[11], qr[1])
    psi_qc.cx(qr[0], qr[1])
    
    psi_qc.u(params[12], params[13], params[14], qr[0])
    psi_qc.u(params[15], params[16], params[17], qr[1])
    psi_qc.cx(qr[1], qr[0])
    
    psi_qc.u(params[18], params[19], params[20], qr[0])
    psi_qc.u(params[21], params[22], params[23], qr[1])
    return psi_qc

def get_measurable_expression(params, plot=False):
    psi_qc = get_var_circuit(params)
    if plot:
        print(psi_qc)
    psi_qc = CircuitStateFn(psi_qc)
    return StateFn(op, is_measurement=True).compose(psi_qc) 
    
def objective_function(params, plot=False):
    # Obtain a quantum circuit instance from the paramters
    measurable_expression = get_measurable_expression(params, plot=plot)
    expectation = AerPauliExpectation().convert(measurable_expression)
    sampler = CircuitSampler(q_instance).convert(expectation)
    return sampler.eval().real

print(objective_function(np.random.randn(24), plot=True))


from qiskit.aqua.components.optimizers import COBYLA

# Initialize the COBYLA optimizer
optimizer = COBYLA(maxiter=500, tol=0.0001)

# Create the initial parameters (noting that our single qubit variational form has 3 parameters)
params = np.random.rand(24)
ret = optimizer.optimize(num_vars=24, objective_function=objective_function, initial_point=params)


# Obtain the output distribution using the final parameters
lambda_min = objective_function(ret[0])

# comparison of Ground State Energy
print("\nGround State Energy (vqe): {:.9f}".format(lambda_min))
v,w = np.linalg.eigh(op_np)
print("Ground State Energy (exact): {:.9f}".format(v[0]))
print("Percent difference: " + str((lambda_min - v[0])/np.abs(v[0])*100) + "%")

# comparison of Ground State
backend_statevector = Aer.get_backend('statevector_simulator')
ground_state_vqe_qc = get_var_circuit(ret[0])
ground_state_exact = w[:,0] # take first eigenvector
result = execute(ground_state_vqe_qc,backend_statevector).result()
ground_state_vqe = result.get_statevector()
print("\nGround State (vqe): \n", ground_state_vqe[:,None])
print("Ground State (exact): \n", ground_state_exact[:,None])
ground_state_vqe_qc.draw(fold=300)











# Imports needed for basic no noise VQE simulation
import numpy as np
import copy
from qiskit import BasicAer
from qiskit.aqua import aqua_globals, QuantumInstance
from qiskit.aqua.algorithms import NumPyMinimumEigensolver, VQE
from qiskit.aqua.components.optimizers import SLSQP, SPSA
from qiskit.chemistry.components.initial_states import HartreeFock
from qiskit.chemistry.components.variational_forms import UCCSD
from qiskit.chemistry.drivers import PySCFDriver
from qiskit.chemistry.core import Hamiltonian, QubitMappingType
from tqdm import tqdm

import matplotlib.pyplot as plt

# Some deprecated package issue; one warning is enough.
import warnings
# warnings.filterwarnings(action='once')
warnings.filterwarnings('ignore')


molecule = 'H .0 .0 -{0}; Li .0 .0 {0}' # Define molecule; could be H2 or LiH, etc.
distances = np.arange(0.5, 3.75, 0.25) # Distances in Angstrom
vqe_energies = [] 
hf_energies = [] # Hartree-Fock energies
exact_energies = [] # Exact energies from numerical diagonalization


for i in tqdm(range(len(distances))):
    d = distances[i]
    # set up experiment
    driver = PySCFDriver(molecule.format(d/2), basis='sto3g')
    qmolecule = driver.run()
    operator = Hamiltonian(qubit_mapping=QubitMappingType.PARITY, 
                           two_qubit_reduction=True, freeze_core=True,
                           orbital_reduction=[-3, -2]) # Approxns needed to make this
                                                       # problem tractable.
    
    qubit_op, aux_ops = operator.run(qmolecule)
    
    # exact classical result
    exact_result = NumPyMinimumEigensolver(qubit_op, aux_operators=aux_ops).run()
    exact_result = operator.process_algorithm_result(exact_result)
    
    # VQE
    optimizer = SLSQP(maxiter=1000)
    initial_state = HartreeFock(operator.molecule_info['num_orbitals'],
                                operator.molecule_info['num_particles'],
                                qubit_mapping=operator._qubit_mapping,
                                two_qubit_reduction=operator._two_qubit_reduction)
    
    var_form = UCCSD(num_orbitals=operator.molecule_info['num_orbitals'],
                     num_particles=operator.molecule_info['num_particles'],
                     initial_state=initial_state,
                     qubit_mapping=operator._qubit_mapping,
                     two_qubit_reduction=operator._two_qubit_reduction)
    
    algo = VQE(qubit_op, var_form, optimizer, aux_operators=aux_ops)
    
    vqe_result = algo.run(QuantumInstance(BasicAer.get_backend('statevector_simulator')))
    vqe_result = operator.process_algorithm_result(vqe_result)
    
    exact_energies.append(exact_result.energy)
    vqe_energies.append(vqe_result.energy)
    hf_energies.append(vqe_result.hartree_fock_energy)


import seaborn as sns
sns.set_theme()
sns.set(font_scale=1)

plt.plot(distances, vqe_energies, 'o', color='r',label='VQE')
plt.plot(distances, exact_energies, 'x', color='g', label='Exact')
plt.plot(distances, hf_energies, color='b',label='Hartree Fock')

plt.xlabel('Interatomic distance')
plt.ylabel('Energy')
plt.title('LiH Ground State Energy')
plt.legend(loc='upper right')

# Uncomment to save plot! 
plt.savefig('simulations/vqe_LiH.png', dpi=300)








from qiskit.aqua.algorithms import VQE, NumPyEigensolver
import matplotlib.pyplot as plt
import numpy as np
from qiskit.chemistry.components.variational_forms import UCCSD
from qiskit.chemistry.components.initial_states import HartreeFock
from qiskit.circuit.library import EfficientSU2
from qiskit.aqua.components.optimizers import COBYLA, SPSA, SLSQP
from qiskit.aqua.operators import Z2Symmetries
from qiskit import IBMQ, BasicAer, Aer
from qiskit.chemistry.drivers import PySCFDriver, UnitsType
from qiskit.chemistry import FermionicOperator
from qiskit import IBMQ
from qiskit.aqua import QuantumInstance
from qiskit.ignis.mitigation.measurement import CompleteMeasFitter
from qiskit.providers.aer.noise import NoiseModel


molecule = 'H .0 .0 -{0}; H .0 .0 {0}' # Define molecule; could be H2 or LiH, etc.
distances = np.arange(0.25, 4.0, 0.25) # Distances in Angstrom
vqe_energies = [] 
exact_energies = [] # Exact energies from numerical diagonalization
hf_energies = []


backend = BasicAer.get_backend("statevector_simulator")
for i in tqdm(range(len(distances))):
    d = distances[i]
    
    # set up experiment
    driver = PySCFDriver(molecule.format(d/2),  unit=UnitsType.ANGSTROM, charge=0, spin=0, basis='sto3g')
    qmolecule = driver.run()
    num_particles = qmolecule.num_alpha + qmolecule.num_beta
    operator = Hamiltonian(qubit_mapping=QubitMappingType.PARITY, 
                           two_qubit_reduction=True) # Approxns needed to make this
                                                       # problem tractable.
    
    qubitOp, auxOps = operator.run(qmolecule)
    
    # exact classical result
    exact_solution = NumPyEigensolver(qubitOp).run()
    exact_result = np.real(exact_solution.eigenvalues) + qmolecule.nuclear_repulsion_energy
    
    # VQE
    optimizer = SLSQP(maxiter=1000)
    num_spin_orbitals = qmolecule.num_orbitals * 2
    initial_state = HartreeFock(num_spin_orbitals,
                                num_particles,
                                qubit_mapping='parity',
                                two_qubit_reduction=True)
    
    var_form = UCCSD(num_orbitals=num_spin_orbitals,
                     num_particles=num_particles,
                     initial_state=initial_state,
                     qubit_mapping='parity',
                     two_qubit_reduction=True)
    
    vqe = VQE(qubitOp, var_form, optimizer, aux_operators=auxOps)
    vqe_result = vqe.run(QuantumInstance(BasicAer.get_backend('statevector_simulator')))
    vqe_result = operator.process_algorithm_result(vqe_result)
    
    exact_energies.append(exact_result)
    vqe_energies.append(vqe_result.energy)
    hf_energies.append(vqe_result.hartree_fock_energy)


''' Another way!
backend = BasicAer.get_backend("statevector_simulator")
for i, d in tqdm(enumerate(distances)):    
    # set up experiment
    driver = PySCFDriver(molecule.format(d/2),  unit=UnitsType.ANGSTROM, charge=0, spin=0, basis='sto3g')
    qmolecule = driver.run()
    num_particles = qmolecule.num_alpha + qmolecule.num_beta
    qubitOp = FermionicOperator(h1=qmolecule.one_body_integrals, h2=qmolecule.two_body_integrals).mapping(map_type='parity')
    qubitOp = Z2Symmetries.two_qubit_reduction(qubitOp, num_particles)
    
    # exact classical result
    exact_solution = NumPyEigensolver(qubitOp).run()
    exact_result = np.real(exact_solution.eigenvalues) + qmolecule.nuclear_repulsion_energy
    
    
    optimizer = SPSA(maxiter=100)
    var_form = EfficientSU2(qubitOp.num_qubits, entanglement="linear")
    vqe = VQE(qubitOp, var_form, optimizer=optimizer)
    vqe_result = np.real(vqe.run(backend)['eigenvalue'] + qmolecule.nuclear_repulsion_energy)
    
    exact_energies.append(exact_result)
    vqe_energies.append(vqe_result)
'''
print("")


import seaborn as sns
sns.set_theme()
sns.set(font_scale=1)

plt.plot(distances, vqe_energies, 'o', color='r',label='VQE')
plt.plot(distances, exact_energies, 'x', color='g', label='Exact')
plt.plot(distances, hf_energies, color='b',label='Hartree Fock')


plt.xlabel('Interatomic distance (Angstrom)')
plt.ylabel('Energy')
plt.title('H-H Ground State Energy')
plt.legend(loc='upper right')

# Uncomment to save plot! 
plt.savefig('simulations/vqe_H2.png', dpi=300)









